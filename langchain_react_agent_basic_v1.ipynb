{
  "nbformat": 4,
  "nbformat_minor": 0,
  "metadata": {
    "colab": {
      "provenance": [],
      "authorship_tag": "ABX9TyPDGy/kEiQNLZ5J/f54KbXa"
    },
    "kernelspec": {
      "name": "python3",
      "display_name": "Python 3"
    },
    "language_info": {
      "name": "python"
    }
  },
  "cells": [
    {
      "cell_type": "code",
      "source": [
        "!pip install langchain\n",
        "!pip install openai"
      ],
      "metadata": {
        "id": "tEEoKWm51o2s"
      },
      "execution_count": null,
      "outputs": []
    },
    {
      "cell_type": "code",
      "execution_count": null,
      "metadata": {
        "id": "kY9p4-mu03Am"
      },
      "outputs": [],
      "source": [
        "from langchain.agents import load_tools\n",
        "from langchain.agents import initialize_agent\n",
        "from langchain.agents import AgentType\n",
        "from langchain.llms import OpenAI"
      ]
    },
    {
      "cell_type": "code",
      "source": [
        "!pip install serpapi\n",
        "!pip install google-search-results"
      ],
      "metadata": {
        "id": "vNyiPXp_4IgN"
      },
      "execution_count": null,
      "outputs": []
    },
    {
      "cell_type": "code",
      "source": [
        "import os\n",
        "\n",
        "os.environ[\"OPENAI_API_KEY\"] = \"API_KEY\""
      ],
      "metadata": {
        "id": "q0a6OqG32AzT"
      },
      "execution_count": null,
      "outputs": []
    },
    {
      "cell_type": "code",
      "source": [
        "os.environ[\"SERPAPI_API_KEY\"] = \"API_KEY\""
      ],
      "metadata": {
        "id": "ms3ul3rg35fC"
      },
      "execution_count": null,
      "outputs": []
    },
    {
      "cell_type": "code",
      "source": [
        "llm = OpenAI(temperature=0)"
      ],
      "metadata": {
        "id": "Pb_k-PBF2MNh"
      },
      "execution_count": null,
      "outputs": []
    },
    {
      "cell_type": "code",
      "source": [
        "tools = load_tools([\"serpapi\", \"llm-math\"], llm=llm)"
      ],
      "metadata": {
        "id": "FzeL8KCp2PRE"
      },
      "execution_count": null,
      "outputs": []
    },
    {
      "cell_type": "code",
      "source": [
        "!pip install langchainhub"
      ],
      "metadata": {
        "colab": {
          "base_uri": "https://localhost:8080/"
        },
        "id": "Iq6tAQVG49r3",
        "outputId": "44d486cd-16af-4ddd-a8f2-0b3dfd47f8f2"
      },
      "execution_count": null,
      "outputs": [
        {
          "output_type": "stream",
          "name": "stdout",
          "text": [
            "Collecting langchainhub\n",
            "  Downloading langchainhub-0.1.13-py3-none-any.whl (3.4 kB)\n",
            "Requirement already satisfied: requests<3,>=2 in /usr/local/lib/python3.10/dist-packages (from langchainhub) (2.31.0)\n",
            "Collecting types-requests<3.0.0.0,>=2.31.0.2 (from langchainhub)\n",
            "  Downloading types_requests-2.31.0.8-py3-none-any.whl (14 kB)\n",
            "Requirement already satisfied: charset-normalizer<4,>=2 in /usr/local/lib/python3.10/dist-packages (from requests<3,>=2->langchainhub) (3.3.0)\n",
            "Requirement already satisfied: idna<4,>=2.5 in /usr/local/lib/python3.10/dist-packages (from requests<3,>=2->langchainhub) (3.4)\n",
            "Requirement already satisfied: urllib3<3,>=1.21.1 in /usr/local/lib/python3.10/dist-packages (from requests<3,>=2->langchainhub) (2.0.6)\n",
            "Requirement already satisfied: certifi>=2017.4.17 in /usr/local/lib/python3.10/dist-packages (from requests<3,>=2->langchainhub) (2023.7.22)\n",
            "Installing collected packages: types-requests, langchainhub\n",
            "Successfully installed langchainhub-0.1.13 types-requests-2.31.0.8\n"
          ]
        }
      ]
    },
    {
      "cell_type": "markdown",
      "source": [
        "## Agent using LECL"
      ],
      "metadata": {
        "id": "r_lxTzNM5qUo"
      }
    },
    {
      "cell_type": "code",
      "source": [
        "from langchain.tools.render import render_text_description\n",
        "from langchain.agents.output_parsers import ReActSingleInputOutputParser\n",
        "from langchain.agents.format_scratchpad import format_log_to_str\n",
        "from langchain import hub"
      ],
      "metadata": {
        "id": "U4eXpWP64E2X"
      },
      "execution_count": null,
      "outputs": []
    },
    {
      "cell_type": "code",
      "source": [
        "prompt = hub.pull(\"hwchase17/react\")\n",
        "prompt = prompt.partial(\n",
        "    tools=render_text_description(tools),\n",
        "    tool_names=\", \".join([t.name for t in tools]),\n",
        ")"
      ],
      "metadata": {
        "id": "5nn9zn7-4zhm"
      },
      "execution_count": null,
      "outputs": []
    },
    {
      "cell_type": "code",
      "source": [
        "llm_with_stop = llm.bind(stop=[\"\\nObservation\"])"
      ],
      "metadata": {
        "id": "iudIYBKz5G6f"
      },
      "execution_count": null,
      "outputs": []
    },
    {
      "cell_type": "code",
      "source": [
        "agent = {\n",
        "    \"input\": lambda x: x[\"input\"],\n",
        "    \"agent_scratchpad\": lambda x: format_log_to_str(x['intermediate_steps'])\n",
        "} | prompt | llm_with_stop | ReActSingleInputOutputParser()"
      ],
      "metadata": {
        "id": "hgABz-xe5KDy"
      },
      "execution_count": null,
      "outputs": []
    },
    {
      "cell_type": "code",
      "source": [
        "from langchain.agents import AgentExecutor"
      ],
      "metadata": {
        "id": "qRvfy4pW5Peb"
      },
      "execution_count": null,
      "outputs": []
    },
    {
      "cell_type": "code",
      "source": [
        "agent_executor = AgentExecutor(agent=agent, tools=tools, verbose=True)"
      ],
      "metadata": {
        "id": "Nb86ExQR5Uk-"
      },
      "execution_count": null,
      "outputs": []
    },
    {
      "cell_type": "code",
      "source": [
        "agent_executor.invoke({\"input\": \"Who is Leo DiCaprio's girlfriend? What is her current age raised to the 0.43 power?\"})"
      ],
      "metadata": {
        "colab": {
          "base_uri": "https://localhost:8080/"
        },
        "id": "2nGEUQ-75VfT",
        "outputId": "b5e869cd-254c-45e8-8cec-d522c7984a16"
      },
      "execution_count": null,
      "outputs": [
        {
          "output_type": "stream",
          "name": "stdout",
          "text": [
            "\n",
            "\n",
            "\u001b[1m> Entering new AgentExecutor chain...\u001b[0m\n",
            "\u001b[32;1m\u001b[1;3m I need to find out who Leo DiCaprio's girlfriend is and then calculate her age raised to the 0.43 power.\n",
            "Action: Search\n",
            "Action Input: \"Leo DiCaprio girlfriend\"\u001b[0m\u001b[36;1m\u001b[1;3mWho exactly is Vittoria Ceretti? Ceretti was born on June 7, 1998, in Brescia, Italy. Commencing her modeling journey at 14, she has already established her presence on several international catwalks.\u001b[0m\u001b[32;1m\u001b[1;3m I need to calculate her age raised to the 0.43 power.\n",
            "Action: Calculator\n",
            "Action Input: (1998 + 14)^0.43\u001b[0m\u001b[33;1m\u001b[1;3mAnswer: 26.336619533501626\u001b[0m\u001b[32;1m\u001b[1;3m I now know the final answer.\n",
            "Final Answer: Vittoria Ceretti is Leo DiCaprio's girlfriend and her current age raised to the 0.43 power is 26.336619533501626.\u001b[0m\n",
            "\n",
            "\u001b[1m> Finished chain.\u001b[0m\n"
          ]
        },
        {
          "output_type": "execute_result",
          "data": {
            "text/plain": [
              "{'input': \"Who is Leo DiCaprio's girlfriend? What is her current age raised to the 0.43 power?\",\n",
              " 'output': \"Vittoria Ceretti is Leo DiCaprio's girlfriend and her current age raised to the 0.43 power is 26.336619533501626.\"}"
            ]
          },
          "metadata": {},
          "execution_count": 18
        }
      ]
    },
    {
      "cell_type": "markdown",
      "source": [
        "## Agent using ZeroShotReactAgent"
      ],
      "metadata": {
        "id": "02Rrg35K5v46"
      }
    },
    {
      "cell_type": "code",
      "source": [
        "agent_executor = initialize_agent(tools, llm, agent=AgentType.ZERO_SHOT_REACT_DESCRIPTION, verbose=True)"
      ],
      "metadata": {
        "id": "kNhkMlB554Bw"
      },
      "execution_count": null,
      "outputs": []
    },
    {
      "cell_type": "code",
      "source": [
        "agent_executor.invoke({\"input\": \"Who is Leo DiCaprio's girlfriend? What is her current age raised to the 0.43 power?\"})"
      ],
      "metadata": {
        "colab": {
          "base_uri": "https://localhost:8080/"
        },
        "id": "CbqYTwX0566p",
        "outputId": "df59d9ed-8f8f-46b6-e2d7-b958f853d2eb"
      },
      "execution_count": null,
      "outputs": [
        {
          "output_type": "stream",
          "name": "stdout",
          "text": [
            "\n",
            "\n",
            "\u001b[1m> Entering new AgentExecutor chain...\u001b[0m\n",
            "\u001b[32;1m\u001b[1;3m I need to find out who Leo DiCaprio's girlfriend is and then calculate her age raised to the 0.43 power.\n",
            "Action: Search\n",
            "Action Input: \"Leo DiCaprio girlfriend\"\u001b[0m\n",
            "Observation: \u001b[36;1m\u001b[1;3mWho exactly is Vittoria Ceretti? Ceretti was born on June 7, 1998, in Brescia, Italy. Commencing her modeling journey at 14, she has already established her presence on several international catwalks.\u001b[0m\n",
            "Thought:\u001b[32;1m\u001b[1;3m I now need to calculate her age raised to the 0.43 power.\n",
            "Action: Calculator\n",
            "Action Input: (1998 + 14)^0.43\u001b[0m\n",
            "Observation: \u001b[33;1m\u001b[1;3mAnswer: 26.336619533501626\u001b[0m\n",
            "Thought:\u001b[32;1m\u001b[1;3m I now know the final answer.\n",
            "Final Answer: Vittoria Ceretti is 26.336619533501626 years old.\u001b[0m\n",
            "\n",
            "\u001b[1m> Finished chain.\u001b[0m\n"
          ]
        },
        {
          "output_type": "execute_result",
          "data": {
            "text/plain": [
              "{'input': \"Who is Leo DiCaprio's girlfriend? What is her current age raised to the 0.43 power?\",\n",
              " 'output': 'Vittoria Ceretti is 26.336619533501626 years old.'}"
            ]
          },
          "metadata": {},
          "execution_count": 20
        }
      ]
    },
    {
      "cell_type": "markdown",
      "source": [
        "## Using a chat model"
      ],
      "metadata": {
        "id": "x86n-P_i6HwA"
      }
    },
    {
      "cell_type": "code",
      "source": [
        "from langchain.chat_models import ChatOpenAI"
      ],
      "metadata": {
        "id": "GZcvIH8f6M-Y"
      },
      "execution_count": null,
      "outputs": []
    },
    {
      "cell_type": "code",
      "source": [
        "chat_model = ChatOpenAI(temperature=0)"
      ],
      "metadata": {
        "id": "nqK-PKrH6PKt"
      },
      "execution_count": null,
      "outputs": []
    },
    {
      "cell_type": "code",
      "source": [
        "prompt = hub.pull(\"hwchase17/react-json\")\n",
        "prompt = prompt.partial(\n",
        "    tools=render_text_description(tools),\n",
        "    tool_names=\", \".join([t.name for t in tools]),\n",
        ")"
      ],
      "metadata": {
        "id": "K6qdEpEY6S_x"
      },
      "execution_count": null,
      "outputs": []
    },
    {
      "cell_type": "code",
      "source": [
        "chat_model_with_stop = chat_model.bind(stop=[\"\\nObservation\"])"
      ],
      "metadata": {
        "id": "mCk61mHG6WLs"
      },
      "execution_count": null,
      "outputs": []
    },
    {
      "cell_type": "code",
      "source": [
        "# use json to enforce structure\n",
        "# helps make chat model more steerable\n",
        "from langchain.agents.output_parsers import ReActJsonSingleInputOutputParser"
      ],
      "metadata": {
        "id": "-4ffnuO86XOF"
      },
      "execution_count": null,
      "outputs": []
    },
    {
      "cell_type": "code",
      "source": [
        "agent = {\n",
        "    \"input\": lambda x: x[\"input\"],\n",
        "    \"agent_scratchpad\": lambda x: format_log_to_str(x['intermediate_steps'])\n",
        "} | prompt | chat_model_with_stop | ReActJsonSingleInputOutputParser()"
      ],
      "metadata": {
        "id": "B6iSR5bT6hMn"
      },
      "execution_count": null,
      "outputs": []
    },
    {
      "cell_type": "code",
      "source": [
        "agent_executor = AgentExecutor(agent=agent, tools=tools, verbose=True)"
      ],
      "metadata": {
        "id": "JMO2tutb6k9B"
      },
      "execution_count": null,
      "outputs": []
    },
    {
      "cell_type": "code",
      "source": [
        "agent_executor.invoke({\"input\": \"Who is Leo DiCaprio's girlfriend? What is her current age raised to the 0.43 power?\"})"
      ],
      "metadata": {
        "colab": {
          "base_uri": "https://localhost:8080/"
        },
        "id": "ONvuRRkY6oQ-",
        "outputId": "5e73e31d-f55b-48c9-c0d2-00f968bc3dc5"
      },
      "execution_count": null,
      "outputs": [
        {
          "output_type": "stream",
          "name": "stdout",
          "text": [
            "\n",
            "\n",
            "\u001b[1m> Entering new AgentExecutor chain...\u001b[0m\n",
            "\u001b[32;1m\u001b[1;3mThought: I need to find out who is Leo DiCaprio's girlfriend first. Then I can calculate her current age raised to the 0.43 power.\n",
            "\n",
            "Action:\n",
            "```\n",
            "{\n",
            "  \"action\": \"Search\",\n",
            "  \"action_input\": \"Leo DiCaprio girlfriend\"\n",
            "}\n",
            "```\n",
            "\u001b[0m\u001b[36;1m\u001b[1;3mWho exactly is Vittoria Ceretti? Ceretti was born on June 7, 1998, in Brescia, Italy. Commencing her modeling journey at 14, she has already established her presence on several international catwalks.\u001b[0m\u001b[32;1m\u001b[1;3mVittoria Ceretti is Leo DiCaprio's girlfriend. Now I can calculate her current age raised to the 0.43 power.\n",
            "\n",
            "Action:\n",
            "```\n",
            "{\n",
            "  \"action\": \"Calculator\",\n",
            "  \"action_input\": \"1998 ^ 0.43\"\n",
            "}\n",
            "```\n",
            "\u001b[0m\u001b[33;1m\u001b[1;3mAnswer: 26.2576622704036\u001b[0m\u001b[32;1m\u001b[1;3mVittoria Ceretti's current age raised to the 0.43 power is 26.2576622704036.\n",
            "\n",
            "Final Answer: Vittoria Ceretti's current age raised to the 0.43 power is 26.2576622704036.\u001b[0m\n",
            "\n",
            "\u001b[1m> Finished chain.\u001b[0m\n"
          ]
        },
        {
          "output_type": "execute_result",
          "data": {
            "text/plain": [
              "{'input': \"Who is Leo DiCaprio's girlfriend? What is her current age raised to the 0.43 power?\",\n",
              " 'output': \"Vittoria Ceretti's current age raised to the 0.43 power is 26.2576622704036.\"}"
            ]
          },
          "metadata": {},
          "execution_count": 28
        }
      ]
    }
  ]
}