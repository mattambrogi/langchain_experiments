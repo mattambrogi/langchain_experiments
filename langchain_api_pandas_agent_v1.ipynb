{
  "nbformat": 4,
  "nbformat_minor": 0,
  "metadata": {
    "colab": {
      "provenance": [],
      "authorship_tag": "ABX9TyN2RT0BJYyumK0dwMN3nHSV",
      "include_colab_link": true
    },
    "kernelspec": {
      "name": "python3",
      "display_name": "Python 3"
    },
    "language_info": {
      "name": "python"
    }
  },
  "cells": [
    {
      "cell_type": "markdown",
      "metadata": {
        "id": "view-in-github",
        "colab_type": "text"
      },
      "source": [
        "<a href=\"https://colab.research.google.com/github/mattambrogi/langchain_experiments/blob/main/langchain_api_pandas_agent_v1.ipynb\" target=\"_parent\"><img src=\"https://colab.research.google.com/assets/colab-badge.svg\" alt=\"Open In Colab\"/></a>"
      ]
    },
    {
      "cell_type": "markdown",
      "source": [
        "## Proof of concept for allowing an agent to parse large API responses with assitance of dataframe agent\n"
      ],
      "metadata": {
        "id": "HSI_i6VUk7Vp"
      }
    },
    {
      "cell_type": "code",
      "source": [
        "!pip install langchain\n",
        "!pip install openai\n",
        "!pip install pandas\n"
      ],
      "metadata": {
        "id": "SF8atVRQlHjk"
      },
      "execution_count": null,
      "outputs": []
    },
    {
      "cell_type": "code",
      "source": [
        "from langchain.agents import AgentType, initialize_agent, create_pandas_dataframe_agent\n",
        "from langchain.chat_models import ChatOpenAI\n",
        "from langchain.tools import BaseTool, StructuredTool, Tool, tool\n",
        "from langchain.agents.agent_types import AgentType\n",
        "from langchain.callbacks.manager import (\n",
        "    AsyncCallbackManagerForToolRun,\n",
        "    CallbackManagerForToolRun,\n",
        ")\n",
        "import requests\n",
        "import pandas as pd\n",
        "from typing import Optional, Type"
      ],
      "metadata": {
        "id": "wNlhZ8c5Uw5C"
      },
      "execution_count": null,
      "outputs": []
    },
    {
      "cell_type": "code",
      "source": [
        "llm = ChatOpenAI(temperature=0)"
      ],
      "metadata": {
        "id": "cF_TXXxWUzgr"
      },
      "execution_count": null,
      "outputs": []
    },
    {
      "cell_type": "code",
      "source": [
        "def flatten_dict(d, parent_key='', sep='_'):\n",
        "    flattened = {}\n",
        "    for k,v in d.items():\n",
        "      new_key = f\"{parent_key}{sep}{k}\" if parent_key else k\n",
        "      if isinstance(v, dict):\n",
        "        flattened.update(flatten_dict(v, new_key, sep=sep))\n",
        "      elif isinstance(v, list):\n",
        "        for i, item in enumerate(v):\n",
        "          if isinstance(item, dict):\n",
        "            flattened.update(flatten_dict(item, f\"{new_key}{sep}{i}\", sep=sep))\n",
        "          else:\n",
        "            flattened[f\"{new_key}{sep}{i}\"] = item\n",
        "      else:\n",
        "        flattened[new_key] = v\n",
        "    return flattened\n"
      ],
      "metadata": {
        "id": "Q8m3uvYQXv1K"
      },
      "execution_count": null,
      "outputs": []
    },
    {
      "cell_type": "code",
      "source": [
        "class GetTodosTool(BaseTool):\n",
        "  \"\"\"Sends a GET request to get all todos for a user\"\"\"\n",
        "\n",
        "  name = \"get_todos\"\n",
        "  description = \"Used to get todos data for a user\"\n",
        "\n",
        "  def __init__(self):\n",
        "        super().__init__()\n",
        "\n",
        "  def _run(self, query_params = None, run_manager: Optional[CallbackManagerForToolRun] = None) -> str:\n",
        "    \"\"\"Use the tool\"\"\"\n",
        "    response = requests.get(\"https://jsonplaceholder.typicode.com/todos\")\n",
        "    todos = response.json()\n",
        "    df = pd.DataFrame(todos)\n",
        "    pandas_agent = create_pandas_dataframe_agent(\n",
        "        llm,\n",
        "        df,\n",
        "        verbose=False,\n",
        "        handle_parsing_erros=True,\n",
        "        agent_type=AgentType.OPENAI_FUNCTIONS\n",
        "    )\n",
        "    answer = pandas_agent.run(run_manager.tags[0])\n",
        "    return answer\n",
        "\n",
        "  async def _arun(\n",
        "        self, query: str, run_manager: Optional[AsyncCallbackManagerForToolRun] = None\n",
        "    ) -> str:\n",
        "        \"\"\"Use the tool asynchronously.\"\"\"\n",
        "        raise NotImplementedError(\"custom_search does not support async\")\n"
      ],
      "metadata": {
        "id": "D5QTi4t1V22F"
      },
      "execution_count": null,
      "outputs": []
    },
    {
      "cell_type": "code",
      "source": [
        "mock_invoice_data = [\n",
        "  {\"id\": 1, \"amount\": 100, \"open_date\": \"08/10/2023\", \"closed_date\": \"08/20/2023\", \"client\": \"John Doe\"},\n",
        "  {\"id\": 2, \"amount\": 200, \"open_date\": \"08/11/2023\", \"closed_date\": None, \"client\": \"Jane Smith\"},\n",
        "  {\"id\": 3, \"amount\": 150, \"open_date\": \"08/12/2023\", \"closed_date\": \"08/22/2023\", \"client\": \"Bob Johnson\"},\n",
        "  {\"id\": 4, \"amount\": 180, \"open_date\": \"08/13/2023\", \"closed_date\": \"08/23/2023\", \"client\": \"Alice Williams\"},\n",
        "  {\"id\": 5, \"amount\": 220, \"open_date\": \"08/14/2023\", \"closed_date\": None, \"client\": \"John Doe\"},\n",
        "  {\"id\": 6, \"amount\": 110, \"open_date\": \"08/15/2023\", \"closed_date\": \"08/25/2023\", \"client\": \"Jane Smith\"},\n",
        "  {\"id\": 7, \"amount\": 130, \"open_date\": \"08/16/2023\", \"closed_date\": \"08/26/2023\", \"client\": \"Bob Johnson\"},\n",
        "  {\"id\": 8, \"amount\": 240, \"open_date\": \"08/17/2023\", \"closed_date\": None, \"client\": \"Alice Williams\"},\n",
        "  {\"id\": 9, \"amount\": 260, \"open_date\": \"08/18/2023\", \"closed_date\": \"08/28/2023\", \"client\": \"John Doe\"},\n",
        "  {\"id\": 10, \"amount\": 210, \"open_date\": \"08/19/2023\", \"closed_date\": \"08/29/2023\", \"client\": \"Jane Smith\"},\n",
        "  {\"id\": 11, \"amount\": 250, \"open_date\": \"08/20/2023\", \"closed_date\": \"08/30/2023\", \"client\": \"Bob Johnson\"},\n",
        "  {\"id\": 12, \"amount\": 290, \"open_date\": \"08/21/2023\", \"closed_date\": None, \"client\": \"Alice Williams\"},\n",
        "  {\"id\": 13, \"amount\": 270, \"open_date\": \"08/22/2023\", \"closed_date\": \"08/32/2023\", \"client\": \"John Doe\"},\n",
        "  {\"id\": 14, \"amount\": 280, \"open_date\": \"08/23/2023\", \"closed_date\": \"08/33/2023\", \"client\": \"Jane Smith\"},\n",
        "  {\"id\": 15, \"amount\": 320, \"open_date\": \"08/24/2023\", \"closed_date\": None, \"client\": \"Bob Johnson\"},\n",
        "  {\"id\": 16, \"amount\": 300, \"open_date\": \"08/25/2023\", \"closed_date\": \"08/35/2023\", \"client\": \"Alice Williams\"},\n",
        "  {\"id\": 17, \"amount\": 310, \"open_date\": \"08/26/2023\", \"closed_date\": \"08/36/2023\", \"client\": \"John Doe\"},\n",
        "  {\"id\": 18, \"amount\": 330, \"open_date\": \"08/27/2023\", \"closed_date\": None, \"client\": \"Jane Smith\"},\n",
        "  {\"id\": 19, \"amount\": 340, \"open_date\": \"08/28/2023\", \"closed_date\": \"08/38/2023\", \"client\": \"Bob Johnson\"},\n",
        "  {\"id\": 20, \"amount\": 350, \"open_date\": \"08/29/2023\", \"closed_date\": \"08/39/2023\", \"client\": \"Alice Williams\"}\n",
        "]\n"
      ],
      "metadata": {
        "id": "j8d7idA_mijX"
      },
      "execution_count": null,
      "outputs": []
    },
    {
      "cell_type": "code",
      "source": [
        "class GetInvoicesTool(BaseTool):\n",
        "  \"\"\"Sends a GET request to get all invoices for a user\"\"\"\n",
        "\n",
        "  name = \"get_invoices\"\n",
        "  description = \"Used to get invoices data for a user\"\n",
        "\n",
        "  def __init__(self):\n",
        "        super().__init__()\n",
        "\n",
        "  def _run(self, query_params = None, run_manager: Optional[CallbackManagerForToolRun] = None) -> str:\n",
        "    \"\"\"Use the tool\"\"\"\n",
        "    response = mock_invoice_data\n",
        "    #todos = response.json()\n",
        "    df = pd.DataFrame(response)\n",
        "    pandas_agent = create_pandas_dataframe_agent(\n",
        "        llm,\n",
        "        df,\n",
        "        verbose=True,\n",
        "        handle_parsing_erros=True,\n",
        "        agent_type=AgentType.OPENAI_FUNCTIONS\n",
        "    )\n",
        "    answer = pandas_agent.run(run_manager.tags[0])\n",
        "    return answer\n",
        "\n",
        "  async def _arun(\n",
        "        self, query: str, run_manager: Optional[AsyncCallbackManagerForToolRun] = None\n",
        "    ) -> str:\n",
        "        \"\"\"Use the tool asynchronously.\"\"\"\n",
        "        raise NotImplementedError(\"custom_search does not support async\")"
      ],
      "metadata": {
        "id": "k-rPOciomWQD"
      },
      "execution_count": null,
      "outputs": []
    },
    {
      "cell_type": "code",
      "source": [
        "mock_transactions_data = [\n",
        "  {\"transaction_id\": 1, \"transaction_date\": \"08/01/2023\", \"transaction_type\": \"WITHDRAW\", \"transaction_amount\": -100, \"merchant_name\": \"ShopA\", \"mcc\": \"MCC1\"},\n",
        "  {\"transaction_id\": 2, \"transaction_date\": \"08/02/2023\", \"transaction_type\": \"DEPOSIT\", \"transaction_amount\": 150, \"merchant_name\": \"Payroll\", \"mcc\": \"MCC2\"},\n",
        "  {\"transaction_id\": 3, \"transaction_date\": \"08/03/2023\", \"transaction_type\": \"WITHDRAW\", \"transaction_amount\": -120, \"merchant_name\": \"ShopB\", \"mcc\": \"MCC3\"},\n",
        "  {\"transaction_id\": 4, \"transaction_date\": \"08/04/2023\", \"transaction_type\": \"WITHDRAW\", \"transaction_amount\": -130, \"merchant_name\": \"ShopA\", \"mcc\": \"MCC1\"},\n",
        "  {\"transaction_id\": 5, \"transaction_date\": \"08/05/2023\", \"transaction_type\": \"DEPOSIT\", \"transaction_amount\": 200, \"merchant_name\": \"ClientX\", \"mcc\": \"MCC4\"},\n",
        "  {\"transaction_id\": 6, \"transaction_date\": \"08/06/2023\", \"transaction_type\": \"WITHDRAW\", \"transaction_amount\": -80, \"merchant_name\": \"ShopC\", \"mcc\": \"MCC5\"},\n",
        "  {\"transaction_id\": 7, \"transaction_date\": \"08/07/2023\", \"transaction_type\": \"WITHDRAW\", \"transaction_amount\": -60, \"merchant_name\": \"ShopB\", \"mcc\": \"MCC3\"},\n",
        "  {\"transaction_id\": 8, \"transaction_date\": \"08/08/2023\", \"transaction_type\": \"DEPOSIT\", \"transaction_amount\": 100, \"merchant_name\": \"ClientY\", \"mcc\": \"MCC4\"},\n",
        "  {\"transaction_id\": 9, \"transaction_date\": \"08/09/2023\", \"transaction_type\": \"WITHDRAW\", \"transaction_amount\": -90, \"merchant_name\": \"ShopA\", \"mcc\": \"MCC1\"},\n",
        "  {\"transaction_id\": 10, \"transaction_date\": \"08/10/2023\", \"transaction_type\": \"DEPOSIT\", \"transaction_amount\": 175, \"merchant_name\": \"Payroll\", \"mcc\": \"MCC2\"},\n",
        "  {\"transaction_id\": 11, \"transaction_date\": \"08/11/2023\", \"transaction_type\": \"WITHDRAW\", \"transaction_amount\": -50, \"merchant_name\": \"ShopC\", \"mcc\": \"MCC5\"},\n",
        "  {\"transaction_id\": 12, \"transaction_date\": \"08/12/2023\", \"transaction_type\": \"DEPOSIT\", \"transaction_amount\": 180, \"merchant_name\": \"ClientZ\", \"mcc\": \"MCC4\"},\n",
        "  {\"transaction_id\": 13, \"transaction_date\": \"08/13/2023\", \"transaction_type\": \"WITHDRAW\", \"transaction_amount\": -70, \"merchant_name\": \"ShopB\", \"mcc\": \"MCC3\"},\n",
        "  {\"transaction_id\": 14, \"transaction_date\": \"08/14/2023\", \"transaction_type\": \"WITHDRAW\", \"transaction_amount\": -200, \"merchant_name\": \"ShopA\", \"mcc\": \"MCC1\"},\n",
        "  {\"transaction_id\": 15, \"transaction_date\": \"08/15/2023\", \"transaction_type\": \"DEPOSIT\", \"transaction_amount\": 160, \"merchant_name\": \"ClientX\", \"mcc\": \"MCC4\"},\n",
        "  {\"transaction_id\": 16, \"transaction_date\": \"08/16/2023\", \"transaction_type\": \"WITHDRAW\", \"transaction_amount\": -110, \"merchant_name\": \"ShopC\", \"mcc\": \"MCC5\"},\n",
        "  {\"transaction_id\": 17, \"transaction_date\": \"08/17/2023\", \"transaction_type\": \"DEPOSIT\", \"transaction_amount\": 150, \"merchant_name\": \"Payroll\", \"mcc\": \"MCC2\"},\n",
        "  {\"transaction_id\": 18, \"transaction_date\": \"08/18/2023\", \"transaction_type\": \"WITHDRAW\", \"transaction_amount\": -100, \"merchant_name\": \"ShopB\", \"mcc\": \"MCC3\"},\n",
        "  {\"transaction_id\": 19, \"transaction_date\": \"08/19/2023\", \"transaction_type\": \"WITHDRAW\", \"transaction_amount\": -90, \"merchant_name\": \"ShopC\", \"mcc\": \"MCC5\"},\n",
        "  {\"transaction_id\": 20, \"transaction_date\": \"08/20/2023\", \"transaction_type\": \"DEPOSIT\", \"transaction_amount\": 180, \"merchant_name\": \"ClientY\", \"mcc\": \"MCC4\"}\n",
        "]\n"
      ],
      "metadata": {
        "id": "uOu-zuHQtZmf"
      },
      "execution_count": null,
      "outputs": []
    },
    {
      "cell_type": "code",
      "source": [
        "class GetTransactionsTool(BaseTool):\n",
        "  \"\"\"Sends a GET request to get all bank transactions for a user. Does not require input.\"\"\"\n",
        "\n",
        "  name = \"get_transactions\"\n",
        "  description = \"Used to get bank transactions data for a user. Can answer general questions about spending. Does not require input.\"\n",
        "\n",
        "  def __init__(self):\n",
        "        super().__init__()\n",
        "\n",
        "  def _run(self, query_params = None, run_manager: Optional[CallbackManagerForToolRun] = None) -> str:\n",
        "    \"\"\"Use the tool\"\"\"\n",
        "    response = mock_transactions_data\n",
        "    #todos = response.json()\n",
        "    df = pd.DataFrame(response)\n",
        "    df['transaction_date'] = pd.to_datetime(df['transaction_date'], format='%m/%d/%Y')\n",
        "    pandas_agent = create_pandas_dataframe_agent(\n",
        "        llm,\n",
        "        df,\n",
        "        verbose=True,\n",
        "        handle_parsing_erros=True,\n",
        "        agent_type=AgentType.OPENAI_FUNCTIONS\n",
        "    )\n",
        "    answer = pandas_agent.run(run_manager.tags[0])\n",
        "    return answer\n",
        "\n",
        "  async def _arun(\n",
        "        self, query: str, run_manager: Optional[AsyncCallbackManagerForToolRun] = None\n",
        "    ) -> str:\n",
        "        \"\"\"Use the tool asynchronously.\"\"\"\n",
        "        raise NotImplementedError(\"custom_search does not support async\")"
      ],
      "metadata": {
        "id": "-iock75gtlPz"
      },
      "execution_count": null,
      "outputs": []
    },
    {
      "cell_type": "code",
      "source": [
        "tools = [GetTodosTool(), GetInvoicesTool(), GetTransactionsTool()]"
      ],
      "metadata": {
        "id": "6HG3EkknbpVS"
      },
      "execution_count": null,
      "outputs": []
    },
    {
      "cell_type": "code",
      "source": [
        "agent = initialize_agent(\n",
        "    llm=llm,\n",
        "    tools=tools,\n",
        "    handle_parsing_errors=True,\n",
        "    verbose=True,\n",
        "    agent_type=AgentType.OPENAI_FUNCTIONS,\n",
        ")\n"
      ],
      "metadata": {
        "id": "kZoU1R26fhd0"
      },
      "execution_count": null,
      "outputs": []
    },
    {
      "cell_type": "code",
      "source": [
        "query = \"How many todos does user 1 have and what is the title of their most recent one?\"\n",
        "\n",
        "agent.run(\n",
        "    query,\n",
        "    tags = [query]\n",
        ")"
      ],
      "metadata": {
        "colab": {
          "base_uri": "https://localhost:8080/",
          "height": 482
        },
        "id": "xfyVXq8KfrZx",
        "outputId": "3d8b4e81-37c9-4f2c-b235-334cecd50be6"
      },
      "execution_count": null,
      "outputs": [
        {
          "output_type": "stream",
          "name": "stdout",
          "text": [
            "\n",
            "\n",
            "\u001b[1m> Entering new AgentExecutor chain...\u001b[0m\n",
            "\u001b[32;1m\u001b[1;3mI need to use the get_todos tool to get the todos data for user 1. Then I can count the number of todos and find the most recent one.\n",
            "Action: get_todos\n",
            "Action Input: user_id = 1\u001b[0m\n",
            "\n",
            "\u001b[1m> Entering new AgentExecutor chain...\u001b[0m\n",
            "\u001b[32;1m\u001b[1;3m\n",
            "Invoking: `python_repl_ast` with `{'query': \"df[df['userId'] == 1]['id'].count()\"}`\n",
            "\n",
            "\n",
            "\u001b[0m\u001b[36;1m\u001b[1;3m20\u001b[0m\u001b[32;1m\u001b[1;3m\n",
            "Invoking: `python_repl_ast` with `{'query': \"df[df['userId'] == 1].sort_values('id', ascending=False)['title'].iloc[0]\"}`\n",
            "\n",
            "\n",
            "\u001b[0m\u001b[36;1m\u001b[1;3mullam nobis libero sapiente ad optio sint\u001b[0m\u001b[32;1m\u001b[1;3mUser 1 has 20 todos and the title of their most recent one is \"ullam nobis libero sapiente ad optio sint\".\u001b[0m\n",
            "\n",
            "\u001b[1m> Finished chain.\u001b[0m\n",
            "\n",
            "Observation: \u001b[36;1m\u001b[1;3mUser 1 has 20 todos and the title of their most recent one is \"ullam nobis libero sapiente ad optio sint\".\u001b[0m\n",
            "Thought:\u001b[32;1m\u001b[1;3mI now know the final answer\n",
            "Final Answer: User 1 has 20 todos and the title of their most recent one is \"ullam nobis libero sapiente ad optio sint\".\u001b[0m\n",
            "\n",
            "\u001b[1m> Finished chain.\u001b[0m\n"
          ]
        },
        {
          "output_type": "execute_result",
          "data": {
            "text/plain": [
              "'User 1 has 20 todos and the title of their most recent one is \"ullam nobis libero sapiente ad optio sint\".'"
            ],
            "application/vnd.google.colaboratory.intrinsic+json": {
              "type": "string"
            }
          },
          "metadata": {},
          "execution_count": 12
        }
      ]
    },
    {
      "cell_type": "code",
      "source": [
        "query = \"How much is my oldest open invoice for, and who is the client?\"\n",
        "\n",
        "answer = agent.run(\n",
        "    query,\n",
        "    tags = [query]\n",
        ")\n",
        "\n",
        "print(answer)"
      ],
      "metadata": {
        "colab": {
          "base_uri": "https://localhost:8080/"
        },
        "id": "RiR8UD1jf2Vk",
        "outputId": "06b962c2-d23e-4534-c758-85a44c80a476"
      },
      "execution_count": null,
      "outputs": [
        {
          "output_type": "stream",
          "name": "stdout",
          "text": [
            "\n",
            "\n",
            "\u001b[1m> Entering new AgentExecutor chain...\u001b[0m\n",
            "\u001b[32;1m\u001b[1;3m\n",
            "Invoking: `python_repl_ast` with `{'query': \"oldest_open_invoice = df[df['closed_date'].isnull()].sort_values('open_date').iloc[0]\\namount = oldest_open_invoice['amount']\\nclient = oldest_open_invoice['client']\\namount, client\"}`\n",
            "\n",
            "\n",
            "\u001b[0m\u001b[36;1m\u001b[1;3m(200, 'Jane Smith')\u001b[0m\u001b[32;1m\u001b[1;3mYour oldest open invoice is for $200, and the client is Jane Smith.\u001b[0m\n",
            "\n",
            "\u001b[1m> Finished chain.\u001b[0m\n",
            "Your oldest open invoice is for $200, and the client is Jane Smith.\n"
          ]
        }
      ]
    }
  ]
}